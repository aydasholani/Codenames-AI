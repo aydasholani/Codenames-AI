{
 "cells": [
  {
   "cell_type": "markdown",
   "metadata": {},
   "source": [
    "**Import librarys**"
   ]
  },
  {
   "cell_type": "code",
   "execution_count": 1,
   "metadata": {},
   "outputs": [],
   "source": [
    "from ultralytics import YOLO\n",
    "from ultralytics import settings\n",
    "import torch\n",
    "import os\n",
    "import cv2"
   ]
  },
  {
   "cell_type": "markdown",
   "metadata": {},
   "source": [
    "**Check torch version**"
   ]
  },
  {
   "cell_type": "code",
   "execution_count": null,
   "metadata": {},
   "outputs": [],
   "source": [
    "print(\"CUDA available:\", torch.cuda.is_available())\n",
    "print(\"Current device:\", torch.cuda.current_device())\n",
    "print(\"Device name:\", torch.cuda.get_device_name(0))\n",
    "print(\"Antal CPU-kärnor:\", os.cpu_count())"
   ]
  },
  {
   "cell_type": "markdown",
   "metadata": {},
   "source": [
    "**Check Ultralytics settings**"
   ]
  },
  {
   "cell_type": "code",
   "execution_count": null,
   "metadata": {},
   "outputs": [],
   "source": [
    "print(settings)"
   ]
  },
  {
   "cell_type": "markdown",
   "metadata": {},
   "source": [
    "**Download Dataset**"
   ]
  },
  {
   "cell_type": "code",
   "execution_count": 5,
   "metadata": {},
   "outputs": [],
   "source": [
    "from roboflow import Roboflow\n",
    "\n",
    "# dotenv.load_dotenv()\n",
    "# settings.reset()\n",
    "\n",
    "# ROBOFLOW_API_KEY = os.getenv(\"ROBOFLOW_API_KEY\")\n",
    "# PROJECT_ID = os.getenv(\"PROJECT_OBJECT_DETECTION\")\n",
    "# VERSION = os.getenv(\"OBJECT_DETECTION_MODEL_VERSION\")\n",
    "\n",
    "# def download_dataset(PROJECT_ID, version, yolov):\n",
    "#   rf = Roboflow(api_key=ROBOFLOW_API_KEY)\n",
    "#   project = rf.workspace().project(PROJECT_ID)\n",
    "# #   version = project.version(version)\n",
    "#   dataset = project.version(version).download(yolov)\n",
    "#   return dataset\n",
    "\n",
    "# dataset = download_dataset(PROJECT_ID, 9, yolov=\"yolov11\")\n",
    "\n"
   ]
  },
  {
   "cell_type": "markdown",
   "metadata": {},
   "source": [
    "https://docs.ultralytics.com/modes/train/#train-settings"
   ]
  },
  {
   "cell_type": "markdown",
   "metadata": {},
   "source": [
    "**Train model**"
   ]
  },
  {
   "cell_type": "code",
   "execution_count": null,
   "metadata": {},
   "outputs": [],
   "source": [
    "def model_training(data):\n",
    "    device = 'cuda' if torch.cuda.is_available() else 'cpu'\n",
    "    model = YOLO(\"yolo11n.pt\")  # Laddar in förtränad modell\n",
    "    model.to(device)\n",
    "    results = model.train(\n",
    "        data=data, \n",
    "        epochs=100, \n",
    "        imgsz=640, \n",
    "        batch=8,\n",
    "        workers=os.cpu_count(),\n",
    "        exist_ok=True\n",
    "        )\n",
    "    return results\n",
    "\n",
    "results = model_training(data=\"modelv12.yaml\")\n"
   ]
  },
  {
   "cell_type": "markdown",
   "metadata": {},
   "source": [
    "**Validate model**"
   ]
  },
  {
   "cell_type": "code",
   "execution_count": null,
   "metadata": {},
   "outputs": [],
   "source": [
    "def model_validation():\n",
    "    model = YOLO(\"runs/detect/train/weights/best.pt\")\n",
    "    metrics = model.val(\n",
    "        data=\"modelv12.yaml\", \n",
    "        imgsz=640, \n",
    "        batch=8, \n",
    "        conf=0.25, \n",
    "        iou=0.6, \n",
    "        device=\"0\",\n",
    "        dnn=True, \n",
    "        save_json=True)\n",
    "    return metrics\n",
    "\n",
    "modelv12_path = os.path.join(os.getcwd(), \"modelv12\")\n",
    "metrics = model_validation()\n",
    "print(metrics.box.map)\n",
    "print(metrics.box.map50)\n",
    "print(metrics.box.map75)\n",
    "print(metrics.box.maps)\n"
   ]
  },
  {
   "cell_type": "markdown",
   "metadata": {},
   "source": [
    "**Test model**"
   ]
  },
  {
   "cell_type": "markdown",
   "metadata": {},
   "source": [
    "**Prediction**"
   ]
  },
  {
   "cell_type": "code",
   "execution_count": null,
   "metadata": {},
   "outputs": [],
   "source": [
    "def predict_image(image_path, output_path=\"output.png\", conf=0.5):\n",
    "\n",
    "    model = YOLO(\"runs/detect/train/weights/best.pt\")\n",
    "    \n",
    "    img = cv2.imread(image_path, cv2.IMREAD_COLOR)\n",
    "    \n",
    "    results = model.predict(\n",
    "        img, \n",
    "        conf=conf, \n",
    "        stream=True\n",
    "    )\n",
    "\n",
    "    for result in results:\n",
    "        for box in result.boxes:\n",
    "            x1, y1, x2, y2 = [int(coord.item()) for coord in box.xyxy[0]]\n",
    "            label = int(box.cls.item())\n",
    "            confidence = box.conf.item()\n",
    "            \n",
    "            # Rita bounding boxen på bilden\n",
    "            cv2.rectangle(img, (x1, y1), (x2, y2), (0, 255, 0), 2)\n",
    "            cv2.putText(img, f\"Label: {label}, Conf: {confidence:.2f}\", (x1, y1 - 10),\n",
    "                        cv2.FONT_HERSHEY_SIMPLEX, 0.5, (0, 255, 0), 2)\n",
    "\n",
    "    cv2.imwrite(output_path, img)\n",
    "    print(f\"Bilden har sparats till {output_path}\")\n",
    "\n",
    "\n",
    "test_image = os.path.join(os.getcwd(), \"test\", \"board_003.png\")\n",
    "\n",
    "predict_image(test_image, \"output_with_boxes.png\")\n"
   ]
  }
 ],
 "metadata": {
  "kernelspec": {
   "display_name": "ultralytics-env",
   "language": "python",
   "name": "python3"
  },
  "language_info": {
   "codemirror_mode": {
    "name": "ipython",
    "version": 3
   },
   "file_extension": ".py",
   "mimetype": "text/x-python",
   "name": "python",
   "nbconvert_exporter": "python",
   "pygments_lexer": "ipython3",
   "version": "3.11.10"
  }
 },
 "nbformat": 4,
 "nbformat_minor": 2
}
